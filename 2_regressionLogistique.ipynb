{
 "cells": [
  {
   "cell_type": "code",
   "execution_count": null,
   "metadata": {
    "ExecuteTime": {
     "end_time": "2024-02-27T09:53:37.738789600Z",
     "start_time": "2024-02-27T09:53:34.501587900Z"
    }
   },
   "outputs": [],
   "source": [
    "import pickle\n",
    "import numpy as np\n",
    "import cv2\n",
    "from sklearn.linear_model import LogisticRegression"
   ]
  },
  {
   "cell_type": "code",
   "execution_count": null,
   "metadata": {
    "ExecuteTime": {
     "end_time": "2024-02-27T09:53:37.768205400Z",
     "start_time": "2024-02-27T09:53:37.739787500Z"
    }
   },
   "outputs": [],
   "source": [
    "with open('data/visages.pkl', 'rb') as fh:\n",
    "    visages = pickle.load(fh)\n",
    "\n",
    "with open('data/noms.pkl', 'rb') as fh:\n",
    "    noms = pickle.load(fh)\n",
    "\n",
    "print('Shape of visages matrix --> ', visages.shape)"
   ]
  },
  {
   "cell_type": "code",
   "execution_count": null,
   "metadata": {
    "ExecuteTime": {
     "end_time": "2024-02-27T09:53:43.985143Z",
     "start_time": "2024-02-27T09:53:37.769204400Z"
    }
   },
   "outputs": [],
   "source": [
    "# Attention, pour la régression logistique, les images doivent être applaties (flattened) en dimension 1\n",
    "N = len(noms)\n",
    "\n",
    "visages = visages.reshape(N, -1)\n",
    "\n",
    "log_reg = LogisticRegression(max_iter=1000)\n",
    "log_reg.fit(visages, noms)"
   ]
  },
  {
   "cell_type": "code",
   "execution_count": null,
   "metadata": {
    "collapsed": false
   },
   "outputs": [],
   "source": [
    "cascade_visage = cv2.CascadeClassifier(cv2.data.haarcascades + 'haarcascade_frontalface_default.xml')\n",
    "\n",
    "camera = cv2.VideoCapture(0) # 0 pour une caméra interne, 1 pour caméra externe\n",
    "user = {}\n",
    "test = \"\\n\"\n",
    "setNom = list(set(noms))\n",
    "for i in range(len(setNom)):\n",
    "    user[i] = setNom[i]\n",
    "    test += str(i) + \".\" + setNom[i] + \"\\n\""
   ]
  },
  {
   "cell_type": "code",
   "execution_count": null,
   "metadata": {
    "collapsed": false
   },
   "outputs": [],
   "source": [
    "# Demande à l'utilisateur de saisir les numéros des utilisateurs admis\n",
    "numAdmin = list(map(int, input(\"Qui sont admis : \" + test).split()))\n",
    "\n",
    "# Crée une liste vide pour stocker les noms des administrateurs\n",
    "admin = []\n",
    "\n",
    "# Parcours la liste des numéros des utilisateurs admis\n",
    "for num in numAdmin:\n",
    "    # Ajoute le nom correspondant au numéro à la liste des administrateurs\n",
    "    admin.append(user[num])\n",
    "\n",
    "# Boucle principale pour la reconnaissance faciale\n",
    "while True:\n",
    "    # Capture une trame depuis la caméra\n",
    "    ret, trame = camera.read()\n",
    "\n",
    "    # Vérifie si la capture est réussie\n",
    "    if ret == True:\n",
    "        # Convertit l'image en niveaux de gris\n",
    "        gris = cv2.cvtColor(trame, cv2.COLOR_BGR2GRAY)\n",
    "        \n",
    "        # Détecte les visages dans l'image en niveaux de gris\n",
    "        coordonnees_visage = cascade_visage.detectMultiScale(gris, 1.3, 5)\n",
    "\n",
    "        # Parcours chaque visage détecté\n",
    "        for (x, y, l, h) in coordonnees_visage:\n",
    "            # Extrait le visage de la trame\n",
    "            visage = trame[y:y + h, x:x + l, :]\n",
    "            \n",
    "            # Redimensionne le visage à 50x50 pixels et le transforme en vecteur\n",
    "            visage_redimensionne = cv2.resize(visage, (50, 50)).flatten().reshape(1, -1)\n",
    "            \n",
    "            # Prédit le nom du visage à l'aide du modèle de régression logistique (non défini ici)\n",
    "            texte = log_reg.predict(visage_redimensionne)\n",
    "            \n",
    "            # Vérifie si le nom prédit est dans la liste des administrateurs\n",
    "            if texte[0] in admin:\n",
    "                data = texte[0] + \" admis\"\n",
    "                col = (0, 255, 0)  # Couleur verte pour les utilisateurs admis\n",
    "            else:\n",
    "                col = (255, 0, 0)  # Couleur rouge pour les utilisateurs non admis\n",
    "                data = texte[0] + \" non admis\"\n",
    "            \n",
    "            # Affiche le statut de l'utilisateur au-dessus du visage détecté\n",
    "            cv2.putText(trame, data, (x, y - 10), cv2.FONT_HERSHEY_SIMPLEX, 1, (255, 255, 0), 2)\n",
    "            \n",
    "            # Dessine un rectangle autour du visage détecté\n",
    "            cv2.rectangle(trame, (x, y), (x + l, y + h), col, 2)\n",
    "\n",
    "        # Affiche l'image avec les rectangles et les noms\n",
    "        cv2.imshow('Reconnaissance faciale en temps réel', trame)\n",
    "        \n",
    "        # Vérifie si la touche 'Esc' est pressée pour quitter\n",
    "        if cv2.waitKey(1) == 27:\n",
    "            break\n",
    "            \n",
    "    else:\n",
    "        # Affiche une erreur si la capture échoue\n",
    "        print(\"erreur\")\n",
    "        break\n",
    "\n",
    "# Ferme toutes les fenêtres OpenCV\n",
    "cv2.destroyAllWindows()\n",
    "\n",
    "# Libère la ressource de la caméra\n",
    "camera.release()\n"
   ]
  },
  {
   "cell_type": "code",
   "execution_count": null,
   "metadata": {
    "collapsed": false
   },
   "outputs": [],
   "source": []
  }
 ],
 "metadata": {
  "kernelspec": {
   "display_name": "Python 3",
   "language": "python",
   "name": "python3"
  },
  "language_info": {
   "codemirror_mode": {
    "name": "ipython",
    "version": 3
   },
   "file_extension": ".py",
   "mimetype": "text/x-python",
   "name": "python",
   "nbconvert_exporter": "python",
   "pygments_lexer": "ipython3",
   "version": "3.10.11"
  }
 },
 "nbformat": 4,
 "nbformat_minor": 2
}
